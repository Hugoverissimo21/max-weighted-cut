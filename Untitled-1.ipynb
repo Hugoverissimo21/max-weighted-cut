{
 "cells": [
  {
   "cell_type": "code",
   "execution_count": 62,
   "metadata": {},
   "outputs": [
    {
     "data": {
      "text/plain": [
       "array([[ 0, 12, 10,  0],\n",
       "       [12,  0,  0, 16],\n",
       "       [10,  0,  0,  0],\n",
       "       [ 0, 16,  0,  0]])"
      ]
     },
     "execution_count": 62,
     "metadata": {},
     "output_type": "execute_result"
    }
   ],
   "source": [
    "import networkx as nx\n",
    "\n",
    "G = nx.adjacency_matrix(nx.read_graphml(\"graphs/4_500.graphml\")).todense()\n",
    "G"
   ]
  },
  {
   "cell_type": "code",
   "execution_count": 63,
   "metadata": {},
   "outputs": [],
   "source": [
    "def calculate_cut_weight(graph, subset):\n",
    "    \"\"\"\n",
    "    complexidade k(n-k), k = len(subset)\n",
    "    W(n^2) e B(0)\n",
    "    O(n^2)\n",
    "\n",
    "    input: [[matriz adjacencia]], {subset}\n",
    "    \"\"\"\n",
    "    total_weight = 0\n",
    "    not_subset = set(range(len(graph))) - subset\n",
    "\n",
    "    for u in subset:\n",
    "        for v in not_subset:\n",
    "            total_weight += graph[u][v]\n",
    "    \n",
    "    return total_weight"
   ]
  },
  {
   "cell_type": "markdown",
   "metadata": {},
   "source": [
    "---"
   ]
  },
  {
   "cell_type": "markdown",
   "metadata": {},
   "source": [
    "# exhaustive search"
   ]
  },
  {
   "cell_type": "code",
   "execution_count": 64,
   "metadata": {},
   "outputs": [
    {
     "data": {
      "text/plain": [
       "({0, 3}, np.int64(38))"
      ]
     },
     "execution_count": 64,
     "metadata": {},
     "output_type": "execute_result"
    }
   ],
   "source": [
    "import itertools\n",
    "\n",
    "def exhaustive_search(graph):\n",
    "    input_set = set(range(len(graph)))\n",
    "    subsets = []\n",
    "    n = len(input_set)\n",
    "    \n",
    "    # generate all subsets (complexy 2^n to generate * n to convert to set = O(n^2 * n))\n",
    "    for r in range(n + 1):\n",
    "        for subset in itertools.combinations(input_set, r):\n",
    "            subsets.append(set(subset))\n",
    "\n",
    "    best = input_set\n",
    "    weight = 0\n",
    "    for subset in subsets: # 2^n resultados para percorrer\n",
    "        new_weight = calculate_cut_weight(graph, subset) # k*(n-k) q é < 2^n , ent O(2^n * n^2)\n",
    "        if new_weight > weight:\n",
    "            best = subset\n",
    "            weight = new_weight\n",
    "        else:\n",
    "            pass\n",
    "    \n",
    "    return best, weight\n",
    "\n",
    "exhaustive_search(G)"
   ]
  },
  {
   "cell_type": "markdown",
   "metadata": {},
   "source": [
    "---"
   ]
  },
  {
   "cell_type": "markdown",
   "metadata": {},
   "source": [
    "# greedy heuristic"
   ]
  },
  {
   "cell_type": "code",
   "execution_count": null,
   "metadata": {},
   "outputs": [],
   "source": [
    "# ideia 1\n",
    "#   - sort matrix intro 1d array\n",
    "#   - andar de dois em dois pq ha repetidos: u,v = v,u\n",
    "#   - na matriz original passar u,v e v,u = -1\n",
    "#   - set adicionar u, se ja tiver u ignorar, se o outro set tiver u, adicionar v\n",
    "#   - qnd chegar aos 0, fazer random ou tudo para o mesmo set"
   ]
  },
  {
   "cell_type": "code",
   "execution_count": null,
   "metadata": {},
   "outputs": [],
   "source": []
  }
 ],
 "metadata": {
  "kernelspec": {
   "display_name": "AA",
   "language": "python",
   "name": "python3"
  },
  "language_info": {
   "codemirror_mode": {
    "name": "ipython",
    "version": 3
   },
   "file_extension": ".py",
   "mimetype": "text/x-python",
   "name": "python",
   "nbconvert_exporter": "python",
   "pygments_lexer": "ipython3",
   "version": "3.10.15"
  }
 },
 "nbformat": 4,
 "nbformat_minor": 2
}

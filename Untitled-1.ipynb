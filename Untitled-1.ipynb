{
 "cells": [
  {
   "cell_type": "code",
   "execution_count": 34,
   "metadata": {},
   "outputs": [
    {
     "data": {
      "text/plain": [
       "({0, 1}, {2, 3}, np.int64(36))"
      ]
     },
     "execution_count": 34,
     "metadata": {},
     "output_type": "execute_result"
    }
   ],
   "source": [
    "import networkx as nx\n",
    "import matplotlib.pyplot as plt\n",
    "import random\n",
    "\n",
    "G = nx.read_graphml(\"graphs/0004_750.graphml\")\n",
    "G\n",
    "\n",
    "import itertools\n",
    "def exhaustive_search(G):\n",
    "    input_set = set(range(len(G)))\n",
    "    subsets = []\n",
    "    n = len(input_set)\n",
    "    \n",
    "    # generate all subsets (complexy 2^V to generate * V to convert to set = O(V^2 * V))\n",
    "    for r in range(n + 1):\n",
    "        for subset in itertools.combinations(input_set, r):\n",
    "            subsets.append(set(subset))\n",
    "\n",
    "    best = input_set\n",
    "    weight = 0\n",
    "    for subset in subsets: # 2^n resultados para percorrer\n",
    "        new_weight = 0\n",
    "        for s in subset: # n^2 para calcular o peso\n",
    "            for t in input_set - subset:\n",
    "                new_weight += G[s][t]\n",
    "        if new_weight > weight:\n",
    "            best = subset\n",
    "            weight = new_weight\n",
    "    \n",
    "    return best, input_set-best, weight\n",
    "s,t, w = exhaustive_search(nx.adjacency_matrix(G).todense())\n",
    "s,t,w"
   ]
  },
  {
   "cell_type": "code",
   "execution_count": 31,
   "metadata": {},
   "outputs": [],
   "source": [
    "plt.rcParams.update({\n",
    "    \"text.usetex\": True,              # If you want to use LaTeX fonts in text\n",
    "    \"font.family\": \"serif\",           # IEEE uses Times New Roman-like fonts\n",
    "    \"font.size\": 12,                   # General font size for IEEE format\n",
    "    \"axes.labelsize\": 12,              # Axis labels font size\n",
    "    \"legend.fontsize\": 11,             # Legend font size\n",
    "    \"xtick.labelsize\": 11,             # X-axis tick labels font size\n",
    "    \"ytick.labelsize\": 11,   \n",
    "\n",
    "})"
   ]
  },
  {
   "cell_type": "code",
   "execution_count": 49,
   "metadata": {},
   "outputs": [
    {
     "data": {
      "image/png": "[encoded data removed]",
      "text/plain": [
       "<Figure size 600x300 with 1 Axes>"
      ]
     },
     "metadata": {},
     "output_type": "display_data"
    }
   ],
   "source": [
    "import random\n",
    "import matplotlib.pyplot as plt\n",
    "import networkx as nx\n",
    "\n",
    "# Assuming G is your graph object\n",
    "space_limit = 1000  # might be important\n",
    "\n",
    "# Assign random (x, y) positions to each node in a 1000x1000 grid\n",
    "positions = {i: (random.randint(0, space_limit), random.randint(0, space_limit)) for i in G.nodes()}  # might be important\n",
    "\n",
    "# Define sets of nodes based on your criteria\n",
    "\n",
    "# Assign random colors to nodes\n",
    "node_color_map = {node: \"#4682B4\" if int(node) in s else '#32CD32' for node in G.nodes()}\n",
    "\n",
    "# Get edge weights\n",
    "edge_weights = nx.get_edge_attributes(G, 'weight')\n",
    "\n",
    "# Create a custom list of edge colors where transparency is added if nodes have the same color\n",
    "edge_colors = []\n",
    "for u, v in G.edges():\n",
    "    # If the two nodes have the same color, make the edge transparent (alpha = 0)\n",
    "    if node_color_map[u] == node_color_map[v]:\n",
    "        edge_colors.append((1, 1, 1, 0))  # White color with transparency\n",
    "    else:\n",
    "        edge_colors.append((0, 0, 0, 1))  # Solid black edge\n",
    "\n",
    "# Draw the graph\n",
    "plt.figure(figsize=(6, 3))\n",
    "plt.grid(True, alpha=0.3)\n",
    "\n",
    "# Set transparent background for the figure and axes\n",
    "plt.gcf().patch.set_alpha(0)  # Make the figure background transparent\n",
    "plt.gca().patch.set_alpha(0)  # Make the axis background transparent\n",
    "\n",
    "# Draw nodes with assigned colors\n",
    "nx.draw(G, pos=positions, with_labels=True, node_color=[node_color_map[node] for node in G.nodes()])\n",
    "\n",
    "# Draw edges with the specified colors (transparent edges if nodes have the same color)\n",
    "nx.draw_networkx_edges(G, pos=positions, edge_color=edge_colors, alpha=1.0)\n",
    "\n",
    "# Draw edge labels\n",
    "nx.draw_networkx_edge_labels(G, pos=positions, edge_labels=edge_weights)\n",
    "\n",
    "# Set ticks and limits\n",
    "plt.xticks(range(0, space_limit + 1, 100))  # Set X-axis ticks from 0 to 1000, every 100 units\n",
    "plt.yticks(range(0, space_limit + 1, 100))  # Set Y-axis ticks from 0 to 1000, every 100 units\n",
    "plt.xlim(0, space_limit)  # Set X-axis limit\n",
    "plt.ylim(0, space_limit)  # Set Y-axis limit\n",
    "\n",
    "# Make sure tick labels (numbers) are visible and properly formatted\n",
    "plt.tick_params(axis='both', which='both', labelsize=10)  # Set the size of tick labels\n",
    "plt.gca().set_axis_on()\n",
    "\n",
    "# Ensure the layout fits\n",
    "plt.tight_layout()\n",
    "\n",
    "# Show the graph\n",
    "plt.show()\n"
   ]
  },
  {
   "cell_type": "code",
   "execution_count": null,
   "metadata": {},
   "outputs": [],
   "source": []
  }
 ],
 "metadata": {
  "kernelspec": {
   "display_name": "AA",
   "language": "python",
   "name": "python3"
  },
  "language_info": {
   "codemirror_mode": {
    "name": "ipython",
    "version": 3
   },
   "file_extension": ".py",
   "mimetype": "text/x-python",
   "name": "python",
   "nbconvert_exporter": "python",
   "pygments_lexer": "ipython3",
   "version": "3.10.15"
  }
 },
 "nbformat": 4,
 "nbformat_minor": 2
}

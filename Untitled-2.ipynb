{
 "cells": [
  {
   "cell_type": "code",
   "execution_count": 5,
   "metadata": {},
   "outputs": [
    {
     "data": {
      "text/plain": [
       "array([[ 0, 12, 10,  0],\n",
       "       [12,  0,  0, 16],\n",
       "       [10,  0,  0,  0],\n",
       "       [ 0, 16,  0,  0]])"
      ]
     },
     "execution_count": 5,
     "metadata": {},
     "output_type": "execute_result"
    }
   ],
   "source": [
    "import networkx as nx\n",
    "\n",
    "G = nx.adjacency_matrix(nx.read_graphml(\"graphs/0004_500.graphml\")).todense()\n",
    "G"
   ]
  },
  {
   "cell_type": "markdown",
   "metadata": {},
   "source": [
    "# exhaustive search\n",
    "\n",
    "- ~~recurrence em q  - return max({A...}{...D} , {A...D}{...})~~\n",
    "\n",
    "- iterative - compare {A}{...} {AB}{...} ... {A...}{Z}\n",
    "\n",
    "penso q ambos seriam 2^n de complexidade pq arvore e n+n-1+n-2+... ?"
   ]
  },
  {
   "cell_type": "code",
   "execution_count": 6,
   "metadata": {},
   "outputs": [
    {
     "data": {
      "text/plain": [
       "({0, 3}, {1, 2}, np.int64(38), 16, 74)"
      ]
     },
     "execution_count": 6,
     "metadata": {},
     "output_type": "execute_result"
    }
   ],
   "source": [
    "import itertools\n",
    "\n",
    "def exhaustive_search(G):\n",
    "    SOLTESTED = 0\n",
    "    OPSEXEC = 0\n",
    "    input_set = set(range(len(G)))\n",
    "    subsets = []\n",
    "    n = len(input_set)\n",
    "    # becasue of the set operation: input_set\n",
    "    OPSEXEC += n\n",
    "    \n",
    "    # generate all subsets (complexy 2^V to generate * V to convert to set = O(V^2 * V))\n",
    "    for r in range(n + 1):\n",
    "        for subset in itertools.combinations(input_set, r):\n",
    "            subsets.append(set(subset))\n",
    "            OPSEXEC += 1\n",
    "\n",
    "    best = input_set\n",
    "    weight = 0\n",
    "    for subset in subsets: # 2^n resultados para percorrer\n",
    "        new_weight = 0\n",
    "        for s in subset: # n^2 para calcular o peso\n",
    "            for t in input_set - subset:\n",
    "                new_weight += G[s][t]\n",
    "                OPSEXEC += 1\n",
    "        SOLTESTED += 1\n",
    "        if new_weight > weight:\n",
    "            best = subset\n",
    "            weight = new_weight\n",
    "            OPSEXEC += 2\n",
    "    \n",
    "    return best, input_set-best, weight, SOLTESTED, OPSEXEC\n",
    "\n",
    "exhaustive_search(G)"
   ]
  },
  {
   "cell_type": "markdown",
   "metadata": {},
   "source": [
    "# greedy heuristic\n",
    "\n",
    "pode ser sorted weights e maior é AB, ent S = {A} T = {B}, segudo maior CD, ent S={AC} T={BD}, algo desse genero\n",
    "\n",
    "mas se segundo maior é AC - S = {A} T = {BC} :: \n",
    "\n",
    "- if A and C in S or T: pass\n",
    "\n",
    "- if A in S or T: C to other\n",
    "\n",
    "- if neither in: randomly select - could compare to already in vertices but to complex?\n",
    "\n",
    "complexidade nlogn por causa do sort + n por iterar por cada um - logo complexidade final = nlogn ?"
   ]
  },
  {
   "cell_type": "code",
   "execution_count": null,
   "metadata": {},
   "outputs": [
    {
     "data": {
      "text/plain": [
       "({1, 2}, {0, 3}, np.int64(38), 29)"
      ]
     },
     "execution_count": 7,
     "metadata": {},
     "output_type": "execute_result"
    },
    {
     "ename": "",
     "evalue": "",
     "output_type": "error",
     "traceback": [
      "\u001b[1;31mThe Kernel crashed while executing code in the current cell or a previous cell. \n",
      "\u001b[1;31mPlease review the code in the cell(s) to identify a possible cause of the failure. \n",
      "\u001b[1;31mClick <a href='https://aka.ms/vscodeJupyterKernelCrash'>here</a> for more info. \n",
      "\u001b[1;31mView Jupyter <a href='command:jupyter.viewOutput'>log</a> for further details."
     ]
    }
   ],
   "source": [
    "def max_weighted_cut_greedy(G):\n",
    "    OPSEXEC = 0\n",
    "    num_vertices = len(G)\n",
    "    \n",
    "    # Step 1: Extract edges and their weights\n",
    "    edges = []\n",
    "    for i in range(num_vertices):\n",
    "        for j in range(i + 1, num_vertices):  # To avoid duplicate edges\n",
    "            edges.append((i, j, G[i, j]))\n",
    "            OPSEXEC += 1\n",
    "\n",
    "    # Step 2: Sort edges in descending order based on their weights\n",
    "    edges.sort(key=lambda e: e[2], reverse=True)\n",
    "    OPSEXEC += len(edges) * (len(edges).bit_length() - 1) #n log n\n",
    "    \n",
    "    seen, S, T = set(), set(), set()\n",
    "\n",
    "    cut_weight = 0\n",
    "    # Step 3: Process each edge\n",
    "    for u, v, weight in edges:\n",
    "        if u not in seen and v not in seen: \n",
    "            # nenhum vertice visto\n",
    "            cut_weight += weight\n",
    "            seen.update({u,v})\n",
    "            S.add(u)\n",
    "            T.add(v)\n",
    "            OPSEXEC += 4\n",
    "        elif u in S and v not in seen:\n",
    "            # u no primeiro set, v não visto\n",
    "            cut_weight += weight\n",
    "            seen.add(v)\n",
    "            T.add(v)\n",
    "            OPSEXEC += 3\n",
    "        elif u in T and v not in seen:\n",
    "            # u no segundo set, v não visto\n",
    "            cut_weight += weight\n",
    "            seen.add(v)\n",
    "            S.add(v)\n",
    "            OPSEXEC += 3\n",
    "        elif v in S and u not in seen:\n",
    "            # v no primeiro set, u não visto\n",
    "            cut_weight += weight\n",
    "            seen.add(u)\n",
    "            T.add(u)\n",
    "            OPSEXEC += 3\n",
    "        elif v in T and u not in seen:\n",
    "            # v no segundo set, u não visto\n",
    "            cut_weight += weight\n",
    "            seen.add(u)\n",
    "            S.add(u)\n",
    "            OPSEXEC += 3\n",
    "        elif v in T and u in S:\n",
    "            cut_weight += weight\n",
    "            OPSEXEC += 1\n",
    "        elif v in S and u in T:\n",
    "            cut_weight += weight\n",
    "            OPSEXEC += 1\n",
    "        # v and u in the same set\n",
    "\n",
    "    return S, T, cut_weight, OPSEXEC\n",
    "\n",
    "max_weighted_cut_greedy(G)"
   ]
  },
  {
   "cell_type": "markdown",
   "metadata": {},
   "source": [
    "---\n",
    "---\n",
    "---"
   ]
  },
  {
   "cell_type": "code",
   "execution_count": null,
   "metadata": {},
   "outputs": [
    {
     "name": "stdout",
     "output_type": "stream",
     "text": [
      "Solving graphs/0033_250.graphml: 1049\n"
     ]
    }
   ],
   "source": [
    "import os\n",
    "import numpy as np\n",
    "import time\n",
    "import pandas as pd\n",
    "from datetime import datetime\n",
    "import random\n",
    "\n",
    "graphs = (sorted([f\"graphs/{x}\" for x in os.listdir(\"graphs\") if x[-7:] == \"graphml\"])[20*3:30*4])\n",
    "random.shuffle(graphs)\n",
    "\n",
    "def countEdges(G):\n",
    "    return int(np.count_nonzero(G) / 2)\n",
    "\n",
    "data = {\n",
    "    (\"Graph\", \"name\"): [],\n",
    "    (\"Graph\", \"n\"): [],\n",
    "    (\"Graph\", \"m\"): [],\n",
    "    (\"Exhaustive\", \"#operations\"): [],\n",
    "    (\"Exhaustive\", \"exec_time\"): [],\n",
    "    (\"Exhaustive\", \"#solutions tested\"): [],\n",
    "    (\"Heuristic\", \"#operations\"): [],\n",
    "    (\"Heuristic\", \"exec_time\"): [],\n",
    "    (\"Heuristic\", \"#solutions tested\"): [],\n",
    "    (\"greedy_prec\", \" \"): []\n",
    "}\n",
    "\n",
    "dateFile = str(datetime.now().strftime(\"%m%d%H%M\"))\n",
    "for graph in graphs:\n",
    "    print(f\"Solving {graph}: {datetime.now().strftime('%H%M')}\")\n",
    "    G = nx.adjacency_matrix(nx.read_graphml(graph)).todense()\n",
    "    start_time = time.time()\n",
    "    S1, T1, w1, SOLTEST1, OPS1 = exhaustive_search(G)\n",
    "    timeEx = time.time() - start_time\n",
    "    start_time = time.time()\n",
    "    S2, T2, w2, OPS2 = max_weighted_cut_greedy(G)\n",
    "    timeHeu = time.time() - start_time\n",
    "    #\n",
    "    data[(\"Graph\", \"name\")].append(graph)\n",
    "    data[(\"Graph\", \"n\")].append(len(G))\n",
    "    data[(\"Graph\", \"m\")].append(countEdges(G))\n",
    "    data[(\"Exhaustive\", \"#operations\")].append(OPS1) #OPS1 #np.nan\n",
    "    data[(\"Exhaustive\", \"exec_time\")].append(timeEx) #timeEx #np.nan\n",
    "    data[(\"Exhaustive\", \"#solutions tested\")].append(SOLTEST1) #SOLTEST1 #np.nan\n",
    "    data[(\"Heuristic\", \"#operations\")].append(OPS2)\n",
    "    data[(\"Heuristic\", \"exec_time\")].append(timeHeu)\n",
    "    data[(\"Heuristic\", \"#solutions tested\")].append(1)\n",
    "    data[\"greedy_prec\", \" \"].append(w2/w1 if w1 != 0 else 1) #w2/w1 if w1 != 0 else 1 #np.nan\n",
    "    \n",
    "\n",
    "    df = pd.DataFrame(data)\n",
    "    df.to_excel(f\"results_{dateFile}.xlsx\")\n",
    "\n",
    "print(\"Done! you wish...\")"
   ]
  },
  {
   "cell_type": "code",
   "execution_count": null,
   "metadata": {},
   "outputs": [],
   "source": []
  }
 ],
 "metadata": {
  "kernelspec": {
   "display_name": "AA",
   "language": "python",
   "name": "python3"
  },
  "language_info": {
   "codemirror_mode": {
    "name": "ipython",
    "version": 3
   },
   "file_extension": ".py",
   "mimetype": "text/x-python",
   "name": "python",
   "nbconvert_exporter": "python",
   "pygments_lexer": "ipython3",
   "version": "3.10.15"
  }
 },
 "nbformat": 4,
 "nbformat_minor": 2
}

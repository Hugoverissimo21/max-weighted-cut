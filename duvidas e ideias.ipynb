{
 "cells": [
  {
   "cell_type": "markdown",
   "metadata": {},
   "source": [
    "# duvidas\n",
    "\n",
    "- ~~peso das edges aletorio ou calculado pela distancia entre os vertices ?~~\n",
    "\n",
    "    - ~~random entre tp 0 e 20~~\n",
    "\n",
    "- ~~o q é o V e o E do graph G(V,E) qual o formato deles?~~\n",
    "\n",
    "- ~~se S{AB} e T{CE}, weighet cut = AC+AE+BC+BE ? e pode ser em pt?~~\n",
    "\n",
    "    - sim ig e sim\n",
    "\n",
    "- ~~devemos meter q parte do codigo no rreport? todo? só os algoritmos e dpois o resultado das complexidades ou assim? devemos meter la os grafos ou como foram gerados ou assim?~~\n",
    "\n",
    "    - ~~max number of edges = n * (n-1)~~\n",
    "\n",
    "    - so se mete tp Intro bla bla, Problema é bla bla, Aplicado em bla bla, uma approach é ... outra é ... (pode se meter pseudo code), comparar as duas approachs.... conclusoes\n",
    "\n",
    "- no meu caso, as posicoes no plano 2D é irrelevante ?\n",
    "\n",
    "- se calhar devia criar varios grafos 4_500 pq à sorte posso ter o ótimo em 1 passo, mas normalmente seria tp 30 passos... não?"
   ]
  },
  {
   "cell_type": "markdown",
   "metadata": {},
   "source": [
    "23 – Find a maximum weighted cut for a given undirected graph G(V, E), with n vertices and m edges. A maximum weighted cut of G is a partition of the graph's vertices into two complementary sets S and T, such that the sum of the weights of edges between the set S and the set T is as large as possible."
   ]
  },
  {
   "cell_type": "markdown",
   "metadata": {},
   "source": [
    "**exhaustive** pode ser\n",
    "\n",
    "- recurrence em q  - return max({A...}{...D} , {A...D}{...})\n",
    "\n",
    "- iterative - compare {A}{...} {AB}{...} ... {A...}{Z}\n",
    "\n",
    "penso q ambos seriam 2^n de complexidade pq arvore e n+n-1+n-2+...\n",
    "\n",
    "$\\ $\n",
    "\n",
    "**greedy heurisitc** pode ser sorted weights e maior é AB, ent S = {A} T = {B}, segudo maior CD, ent S={AC} T={BD}, algo desse genero\n",
    "\n",
    "mas se segundo maior é AC - S = {A} T = {BC} :: \n",
    "\n",
    "- if A and C in S or T: pass\n",
    "\n",
    "- if A in S or T: C to other\n",
    "\n",
    "- if neither in: randomly select - could compare to already in vertices but to complex?\n",
    "\n",
    "complexidade nlogn por causa do sort + n por iterar por cada um - logo complexidade final = nlogn\n",
    "\n"
   ]
  },
  {
   "cell_type": "markdown",
   "metadata": {},
   "source": [
    "---"
   ]
  },
  {
   "cell_type": "markdown",
   "metadata": {},
   "source": [
    "Suggestions:\n",
    "\n",
    "Depending on the problem, it might be helpful to represent each graph by its adjacency matrix or by its incidence matrix or by any other representation you might consider useful.\n",
    "\n",
    "It might also be useful to graphically visualize the problem instances and the computed solutions."
   ]
  },
  {
   "cell_type": "markdown",
   "metadata": {},
   "source": [
    "https://networkx.org/documentation/stable/tutorial.html"
   ]
  },
  {
   "cell_type": "code",
   "execution_count": 109,
   "metadata": {},
   "outputs": [
    {
     "data": {
      "text/plain": [
       "array([[ 0,  0,  0,  0,  0,  5,  6, 15,  0, 13],\n",
       "       [ 0,  0,  3,  0,  0,  0,  0,  2,  0,  0],\n",
       "       [ 0,  3,  0,  0,  0,  0,  0,  0,  0,  0],\n",
       "       [ 0,  0,  0,  0,  0,  0, 17,  0,  0, 18],\n",
       "       [ 0,  0,  0,  0,  0,  1,  0,  0, 19,  0],\n",
       "       [ 5,  0,  0,  0,  1,  0,  0,  0,  0,  0],\n",
       "       [ 6,  0,  0, 17,  0,  0,  0,  0,  0,  0],\n",
       "       [15,  2,  0,  0,  0,  0,  0,  0, 15,  0],\n",
       "       [ 0,  0,  0,  0, 19,  0,  0, 15,  0,  0],\n",
       "       [13,  0,  0, 18,  0,  0,  0,  0,  0,  0]])"
      ]
     },
     "execution_count": 109,
     "metadata": {},
     "output_type": "execute_result"
    }
   ],
   "source": [
    "nx.adjacency_matrix(G).todense()"
   ]
  },
  {
   "cell_type": "code",
   "execution_count": 110,
   "metadata": {},
   "outputs": [
    {
     "data": {
      "text/plain": [
       "array([[ 0,  0,  0,  0,  0,  5,  6, 15,  0, 13],\n",
       "       [ 0,  0,  3,  0,  0,  0,  0,  2,  0,  0],\n",
       "       [ 0,  3,  0,  0,  0,  0,  0,  0,  0,  0],\n",
       "       [ 0,  0,  0,  0,  0,  0, 17,  0,  0, 18],\n",
       "       [ 0,  0,  0,  0,  0,  1,  0,  0, 19,  0],\n",
       "       [ 5,  0,  0,  0,  1,  0,  0,  0,  0,  0],\n",
       "       [ 6,  0,  0, 17,  0,  0,  0,  0,  0,  0],\n",
       "       [15,  2,  0,  0,  0,  0,  0,  0, 15,  0],\n",
       "       [ 0,  0,  0,  0, 19,  0,  0, 15,  0,  0],\n",
       "       [13,  0,  0, 18,  0,  0,  0,  0,  0,  0]])"
      ]
     },
     "execution_count": 110,
     "metadata": {},
     "output_type": "execute_result"
    }
   ],
   "source": [
    "G_loaded_graphml = nx.read_graphml(\"h.graphml\")\n",
    "nx.adjacency_matrix(G_loaded_graphml).todense()"
   ]
  },
  {
   "cell_type": "code",
   "execution_count": null,
   "metadata": {},
   "outputs": [],
   "source": []
  }
 ],
 "metadata": {
  "kernelspec": {
   "display_name": "AA",
   "language": "python",
   "name": "python3"
  },
  "language_info": {
   "codemirror_mode": {
    "name": "ipython",
    "version": 3
   },
   "file_extension": ".py",
   "mimetype": "text/x-python",
   "name": "python",
   "nbconvert_exporter": "python",
   "pygments_lexer": "ipython3",
   "version": "3.10.15"
  }
 },
 "nbformat": 4,
 "nbformat_minor": 2
}

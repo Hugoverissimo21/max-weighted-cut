{
 "cells": [
  {
   "cell_type": "markdown",
   "metadata": {},
   "source": [
    "# duvidas\n",
    "\n",
    "- ~~se S{AB} e T{CE}, weighet cut = AC+AE+BC+BE ?~~\n",
    "\n",
    "    - sim ig\n",
    "\n",
    "- ~~devemos meter q parte do codigo no rreport? todo? só os algoritmos e dpois o resultado das complexidades ou assim? devemos meter la os grafos ou como foram gerados ou assim?~~\n",
    "\n",
    "    - so se mete tp Intro bla bla, Problema é bla bla, Aplicado em bla bla, uma approach é ... outra é ... (pode se meter pseudo code), comparar as duas approachs.... conclusoes\n",
    "\n",
    "    - max number of edges = n * (n-1)\n",
    "\n",
    "- ~~peso das edges aletorio ou calculado pela distancia entre os vertices ?~~\n",
    "\n",
    "    - random entre tp 0 e 20\n",
    "\n",
    "- ~~o q é o V e o E do graph G(V,E) qual o formato deles?~~\n",
    "\n",
    "- ~~pode ser pt?~~\n",
    "\n",
    "    - sim\n",
    "\n",
    "- no meu caso, as posicoes no plano 2D é irrelevante ?"
   ]
  },
  {
   "cell_type": "markdown",
   "metadata": {},
   "source": [
    "# todo\n",
    "\n",
    "criar funcao geradora de graficos (total vertices, % de edges) -> salva o grafico com nome \"[totalV][%*1000]\""
   ]
  },
  {
   "cell_type": "markdown",
   "metadata": {},
   "source": [
    "---"
   ]
  },
  {
   "cell_type": "markdown",
   "metadata": {},
   "source": [
    "23 – Find a maximum weighted cut for a given undirected graph G(V, E), with n vertices and m edges. A maximum weighted cut of G is a partition of the graph's vertices into two complementary sets S and T, such that the sum of the weights of edges between the set S and the set T is as large as possible."
   ]
  },
  {
   "cell_type": "markdown",
   "metadata": {},
   "source": [
    "## Design and test an exhaustive search algorithm to solve one of the following graph problems, as well as another method using a greedy heuristic."
   ]
  },
  {
   "cell_type": "markdown",
   "metadata": {},
   "source": [
    "**exhaustive** pode ser\n",
    "\n",
    "- recurrence em q  - return max({A...}{...D} , {A...D}{...})\n",
    "\n",
    "- iterative - compare {A}{...} {AB}{...} ... {A...}{Z}\n",
    "\n",
    "penso q ambos seriam 2^n de complexidade pq arvore e n+n-1+n-2+...\n",
    "\n",
    "$\\ $\n",
    "\n",
    "**greedy heurisitc** pode ser sorted weights e maior é AB, ent S = {A} T = {B}, segudo maior CD, ent S={AC} T={BD}, algo desse genero\n",
    "\n",
    "mas se segundo maior é AC - S = {A} T = {BC} :: \n",
    "\n",
    "- if A and C in S or T: pass\n",
    "\n",
    "- if A in S or T: C to other\n",
    "\n",
    "- if neither in: randomly select - could compare to already in vertices but to complex?\n",
    "\n",
    "complexidade nlogn por causa do sort + n por iterar por cada um - logo complexidade final = nlogn\n",
    "\n"
   ]
  },
  {
   "cell_type": "markdown",
   "metadata": {},
   "source": [
    "---"
   ]
  },
  {
   "cell_type": "markdown",
   "metadata": {},
   "source": [
    "# Graphs for the Computational Experiments\n",
    "\n",
    "\n",
    "- graph vertices are 2D points on the XOY plane, with integer valued coordinates between 1 and 1000.\n",
    "\n",
    "- graph vertices should neither be coincident nor too close.\n",
    "\n",
    "- the number of edges sharing a vertex is randomly determined.\n",
    "\n",
    "Generate successively larger random graphs, with 4, 5, 6, … vertices, using your student number as seed.\n",
    "\n",
    "For each fixed number of vertices, generate graph instances with 12.5%, 25%, 50% and 75% of the maximum number of possible edges for that number of vertices."
   ]
  },
  {
   "cell_type": "markdown",
   "metadata": {},
   "source": [
    "Suggestions:\n",
    "\n",
    "• use Python’s NetworkX package: https://networkx.org/\n",
    "\n",
    "• store each graph in a file to be used for the computational experiments.\n",
    "\n",
    "Depending on the problem, it might be helpful to represent each graph by its adjacency matrix or by its incidence matrix or by any other representation you might consider useful.\n",
    "\n",
    "It might also be useful to graphically visualize the problem instances and the computed solutions."
   ]
  },
  {
   "cell_type": "markdown",
   "metadata": {},
   "source": [
    "https://networkx.org/documentation/stable/tutorial.html"
   ]
  },
  {
   "cell_type": "code",
   "execution_count": 108,
   "metadata": {},
   "outputs": [],
   "source": [
    "import networkx as nx\n",
    "import matplotlib.pyplot as plt\n",
    "import random\n",
    "\n",
    "def create_graph(V, E, name):\n",
    "    \"\"\"cria o grafo e da peso das edges\"\"\"\n",
    "    # The limit for x and y coordinates in the 2D space\n",
    "    space_limit = 1000\n",
    "    # Create a random graph with n nodes and e edges\n",
    "    G = nx.gnm_random_graph(V, E)\n",
    "    # Assign random weights to each edge\n",
    "    for (u, v) in G.edges():\n",
    "        G[u][v]['weight'] = random.randint(1, 20)  # Random weight between 1 and 20\n",
    "    nx.write_graphml(G, name + \".graphml\")\n",
    "    return G\n",
    "\n",
    "def draw_graph(G, name, show = False):\n",
    "    \"\"\"salva desenho do grafo, com posicoes random\"\"\"\n",
    "    space_limit = 1000 #might me important\n",
    "    # Assign random (x, y) positions to each node in a 1000x1000 grid\n",
    "    positions = {i: (random.randint(0, space_limit), random.randint(0, space_limit)) for i in G.nodes()} #might me important\n",
    "    # Draw the graph with the node positions based on the coordinates\n",
    "    plt.figure(figsize=(7, 7))\n",
    "    plt.grid(True, alpha=0.3)\n",
    "    # Set transparent background for the figure and axes\n",
    "    plt.gcf().patch.set_alpha(0)  # Make the figure background transparent\n",
    "    plt.gca().patch.set_alpha(0)  # Make the axis background transparent\n",
    "    # Get edge weights\n",
    "    edge_weights = nx.get_edge_attributes(G, 'weight')\n",
    "    # Draw nodes and edges\n",
    "    nx.draw(G, pos=positions, with_labels=True)\n",
    "    nx.draw_networkx_edge_labels(G, pos=positions, edge_labels=edge_weights)\n",
    "    # Set grid, axis limits, and axis ticks\n",
    "      # Enable grid with some transparency\n",
    "    plt.xticks(range(0, space_limit + 1, 100))  # Set X-axis ticks from 0 to 1000, every 100 units\n",
    "    plt.yticks(range(0, space_limit + 1, 100))  # Set Y-axis ticks from 0 to 1000, every 100 units\n",
    "    plt.xlim(0, space_limit)  # Set X-axis limit\n",
    "    plt.ylim(0, space_limit)  # Set Y-axis limit\n",
    "    # Make sure tick labels (numbers) are visible and properly formatted\n",
    "    plt.tick_params(axis='both', which='both', labelsize=10)  # Set the size of tick labels\n",
    "    # Re-enable axis visibility since networkx disables it by default\n",
    "    plt.gca().set_axis_on()\n",
    "    plt.tight_layout()\n",
    "    plt.savefig(name + \".svg\", format=\"svg\", transparent=True)  # or png\n",
    "    if show:\n",
    "        plt.show()\n",
    "    else:\n",
    "        plt.close()\n",
    "\n",
    "################################\n",
    "\n",
    "# Parameters\n",
    "n = 10  # Number of nodes\n",
    "e = int(0.125 * n * (n - 1))  # Number of edges\n",
    "name = \"h\"\n",
    "\n",
    "random.seed(124348)\n",
    "\n",
    "G = create_graph(n, e, name)\n",
    "\n",
    "draw_graph(G, name, show = False)"
   ]
  },
  {
   "cell_type": "code",
   "execution_count": 109,
   "metadata": {},
   "outputs": [
    {
     "data": {
      "text/plain": [
       "array([[ 0,  0,  0,  0,  0,  5,  6, 15,  0, 13],\n",
       "       [ 0,  0,  3,  0,  0,  0,  0,  2,  0,  0],\n",
       "       [ 0,  3,  0,  0,  0,  0,  0,  0,  0,  0],\n",
       "       [ 0,  0,  0,  0,  0,  0, 17,  0,  0, 18],\n",
       "       [ 0,  0,  0,  0,  0,  1,  0,  0, 19,  0],\n",
       "       [ 5,  0,  0,  0,  1,  0,  0,  0,  0,  0],\n",
       "       [ 6,  0,  0, 17,  0,  0,  0,  0,  0,  0],\n",
       "       [15,  2,  0,  0,  0,  0,  0,  0, 15,  0],\n",
       "       [ 0,  0,  0,  0, 19,  0,  0, 15,  0,  0],\n",
       "       [13,  0,  0, 18,  0,  0,  0,  0,  0,  0]])"
      ]
     },
     "execution_count": 109,
     "metadata": {},
     "output_type": "execute_result"
    }
   ],
   "source": [
    "nx.adjacency_matrix(G).todense()"
   ]
  },
  {
   "cell_type": "code",
   "execution_count": 110,
   "metadata": {},
   "outputs": [
    {
     "data": {
      "text/plain": [
       "array([[ 0,  0,  0,  0,  0,  5,  6, 15,  0, 13],\n",
       "       [ 0,  0,  3,  0,  0,  0,  0,  2,  0,  0],\n",
       "       [ 0,  3,  0,  0,  0,  0,  0,  0,  0,  0],\n",
       "       [ 0,  0,  0,  0,  0,  0, 17,  0,  0, 18],\n",
       "       [ 0,  0,  0,  0,  0,  1,  0,  0, 19,  0],\n",
       "       [ 5,  0,  0,  0,  1,  0,  0,  0,  0,  0],\n",
       "       [ 6,  0,  0, 17,  0,  0,  0,  0,  0,  0],\n",
       "       [15,  2,  0,  0,  0,  0,  0,  0, 15,  0],\n",
       "       [ 0,  0,  0,  0, 19,  0,  0, 15,  0,  0],\n",
       "       [13,  0,  0, 18,  0,  0,  0,  0,  0,  0]])"
      ]
     },
     "execution_count": 110,
     "metadata": {},
     "output_type": "execute_result"
    }
   ],
   "source": [
    "G_loaded_graphml = nx.read_graphml(\"h.graphml\")\n",
    "nx.adjacency_matrix(G_loaded_graphml).todense()"
   ]
  },
  {
   "cell_type": "code",
   "execution_count": null,
   "metadata": {},
   "outputs": [],
   "source": []
  }
 ],
 "metadata": {
  "kernelspec": {
   "display_name": "AA",
   "language": "python",
   "name": "python3"
  },
  "language_info": {
   "codemirror_mode": {
    "name": "ipython",
    "version": 3
   },
   "file_extension": ".py",
   "mimetype": "text/x-python",
   "name": "python",
   "nbconvert_exporter": "python",
   "pygments_lexer": "ipython3",
   "version": "3.10.15"
  }
 },
 "nbformat": 4,
 "nbformat_minor": 2
}

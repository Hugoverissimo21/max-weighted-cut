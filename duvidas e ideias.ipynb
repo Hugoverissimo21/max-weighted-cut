{
 "cells": [
  {
   "cell_type": "markdown",
   "metadata": {},
   "source": [
    "# duvidas\n",
    "\n",
    "- ~~peso das edges aletorio ou calculado pela distancia entre os vertices ?~~\n",
    "\n",
    "    - ~~random entre tp 0 e 20~~\n",
    "\n",
    "- ~~o q é o V e o E do graph G(V,E) qual o formato deles?~~\n",
    "\n",
    "- ~~se S{AB} e T{CE}, weighet cut = AC+AE+BC+BE ? e pode ser em pt?~~\n",
    "\n",
    "    - ~~sim ig e sim~~\n",
    "\n",
    "- ~~devemos meter q parte do codigo no rreport? todo? só os algoritmos e dpois o resultado das complexidades ou assim? devemos meter la os grafos ou como foram gerados ou assim?~~\n",
    "\n",
    "    - ~~max number of edges = n * (n-1)~~\n",
    "\n",
    "    - ~~so se mete tp Intro bla bla, Problema é bla bla, Aplicado em bla bla, uma approach é ... outra é ... (pode se meter pseudo code), comparar as duas approachs.... conclusoes~~\n",
    "\n",
    "- ~~se calhar devia criar varios grafos 4_500 pq à sorte posso ter o ótimo em 1 passo, mas normalmente seria tp 30 passos... não?~~\n",
    "\n",
    "- ~~calculo do weight conta para a complexidade no caso do heuristico? no exhaistive conta pq tem de saber o melhor, mas e o heuristico?~~\n",
    "\n",
    "- no meu caso, as posicoes no plano 2D é irrelevante ?\n",
    "\n",
    "- otimizar calculo weight no exaustivo ?\n",
    "\n",
    "- sorted = nlog n -> como vou chegar a isso de forma computacional? não dá para estar a fazer += 1...\n",
    "\n",
    "- escrever complexidade em funcao de numero de V e de E ?\n",
    "\n",
    "- number of solutions / configurations tested: o heuristico é so um ou conto mesmo as q n têm os sets cheios? só uma certo?\n",
    "\n",
    "1. updated alg greedy heuristic\n",
    "\n",
    "2. passar 01 algoritmos para python file e importar ?"
   ]
  },
  {
   "cell_type": "markdown",
   "metadata": {},
   "source": [
    "23 – Find a maximum weighted cut for a given undirected graph G(V, E), with n vertices and m edges. A maximum weighted cut of G is a partition of the graph's vertices into two complementary sets S and T, such that the sum of the weights of edges between the set S and the set T is as large as possible."
   ]
  },
  {
   "cell_type": "markdown",
   "metadata": {},
   "source": [
    "---"
   ]
  },
  {
   "cell_type": "markdown",
   "metadata": {},
   "source": [
    "It might also be useful to graphically visualize the problem instances and the computed solutions."
   ]
  },
  {
   "cell_type": "markdown",
   "metadata": {},
   "source": [
    "https://networkx.org/documentation/stable/tutorial.html"
   ]
  },
  {
   "cell_type": "code",
   "execution_count": null,
   "metadata": {},
   "outputs": [],
   "source": []
  }
 ],
 "metadata": {
  "kernelspec": {
   "display_name": "AA",
   "language": "python",
   "name": "python3"
  },
  "language_info": {
   "codemirror_mode": {
    "name": "ipython",
    "version": 3
   },
   "file_extension": ".py",
   "mimetype": "text/x-python",
   "name": "python",
   "nbconvert_exporter": "python",
   "pygments_lexer": "ipython3",
   "version": "3.10.15"
  }
 },
 "nbformat": 4,
 "nbformat_minor": 2
}
